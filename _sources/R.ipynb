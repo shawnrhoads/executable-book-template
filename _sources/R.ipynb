{
 "cells": [
  {
   "cell_type": "markdown",
   "id": "authentic-plaintiff",
   "metadata": {},
   "source": [
    "# R Code\n",
    "\n",
    "This is a Jupyter Notebook with an R kernel."
   ]
  },
  {
   "cell_type": "code",
   "execution_count": 1,
   "id": "dressed-appraisal",
   "metadata": {},
   "outputs": [
    {
     "name": "stdout",
     "output_type": "stream",
     "text": [
      "[1] 1 2 3 4 6 7 8 9\n"
     ]
    }
   ],
   "source": [
    "x <- c(1,2,3,4,6,7,8,9)\n",
    "print(x)"
   ]
  }
 ],
 "metadata": {
  "kernelspec": {
   "display_name": "R",
   "language": "R",
   "name": "ir"
  },
  "language_info": {
   "codemirror_mode": "r",
   "file_extension": ".r",
   "mimetype": "text/x-r-source",
   "name": "R",
   "pygments_lexer": "r",
   "version": "3.6.1"
  }
 },
 "nbformat": 4,
 "nbformat_minor": 5
}

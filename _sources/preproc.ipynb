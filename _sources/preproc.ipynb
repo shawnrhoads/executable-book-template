{
 "cells": [
  {
   "cell_type": "markdown",
   "metadata": {},
   "source": [
    "# Preprocessing\n",
    "\n",
    "Here is a description of the data preprocessing steps."
   ]
  },
  {
   "cell_type": "markdown",
   "metadata": {},
   "source": [
    "## fMRIPrep\n",
    "\n",
    "All preprocessing was implemented using **fMRIPrep** (Esteban et al., 2018), which includes anatomical T1-weighted brain extraction, anatomical surface extraction, head-motion estimation and correction, susceptibility-derived distortion estimation and unwarping, intrasubject registration, and spatial normalization (intersubject registration). All volumes were registered to the MNI (Montreal Neurological Institute) standard template. Automatic removal of motion artifacts using independent component analysis (ICA-AROMA) was performed on the preprocessed BOLD time series in MNI space and the resulting data was smoothed using a 6.0 mm^3 FWHM Gaussian kernel and the time series was scaled within voxels to represent percent signal change.\n",
    "\n",
    "We used the following `bash` command with `singularity` to run `fmriprep`:\n",
    "```\n",
    "SUBID=1234\n",
    "singularity run --bind /mnt:/mnt --cleanenv /mnt/data/singularity/fmriprep-20.2.3.simg /mnt/data/study/subjects /mnt/data/study/subjects/derivatives participant \\\n",
    "--work-dir /mnt/data/study/fmriprep-20.2.3_work \\\n",
    "--participant_label $SUBID \\\n",
    "--bold2t1w-dof 9 \\\n",
    "--output-spaces T1w:res-native MNI152NLin2009cAsym:res-native MNI152NLin6Asym:res-2 fsaverage:res-native \\\n",
    "--skull-strip-t1w force \\\n",
    "--ignore slicetiming \\\n",
    "--use-aroma \\\n",
    "--dummy-scans 0 \\\n",
    "--fs-license-file /mnt/data/freesurfer/license.txt \\\n",
    "--no-submm-recon \\\n",
    "--write-graph \\\n",
    "--fd-spike-threshold 0.5 \\\n",
    "--random-seed 2021\n",
    "```"
   ]
  },
  {
   "cell_type": "markdown",
   "metadata": {},
   "source": [
    "## First-Level Analysis\n",
    "\n",
    "We then ran the resulting preprocessed data through a first-level GLM. We used the following `bash` command with `AFNI` to run `3dDeconvolve`:\n",
    "\n",
    "```\n",
    "subject_id=123\n",
    "task_id=faces\n",
    "3dDeconvolve \\\n",
    "    -input /mnt/data/study/firstlevel_glm/${subject_id}/preproc/${subject_id}_task-${task_id}_run-*_space-MNI152NLin6Asym_desc-smoothAROMAnonaggr_scaled.nii.gz \\\n",
    "    -mask /mnt/data/study/code/modeling/MNI152-graymatter-thr50-2mm.nii.gz \\\n",
    "    -polort A \\\n",
    "    -num_stimts 10 \\\n",
    "    -stim_times 1 /mnt/data/study/code/modeling/events/${subject_id}/${subject_id}_task-${task_id}_timing-condition_A.txt 'BLOCK(0.5,1)' -stim_label 1 condition_A \\\n",
    "    -stim_times 2 /mnt/data/study/code/modeling/events/${subject_id}/${subject_id}_task-${task_id}_timing-condition_B.txt 'BLOCK(0.5,1)' -stim_label 2 condition_B \\\n",
    "    -stim_file 3 \"/mnt/data/study/code/modeling/events/${subject_id}/${subject_id}_task-${task_id}_confounds.txt[0]\" -stim_base 3 -stim_label 12 csf \\\n",
    "    -stim_file 4 \"/mnt/data/study/code/modeling/events/${subject_id}/${subject_id}_task-${task_id}_confounds.txt[1]\" -stim_base 4 -stim_label 13 white_matter \\\n",
    "    -stim_file 5 \"/mnt/data/study/code/modeling/events/${subject_id}/${subject_id}_task-${task_id}_confounds.txt[2]\" -stim_base 5 -stim_label 14 rot_x \\\n",
    "    -stim_file 6 \"/mnt/data/study/code/modeling/events/${subject_id}/${subject_id}_task-${task_id}_confounds.txt[3]\" -stim_base 6 -stim_label 15 rot_y \\\n",
    "    -stim_file 7 \"/mnt/data/study/code/modeling/events/${subject_id}/${subject_id}_task-${task_id}_confounds.txt[4]\" -stim_base 7 -stim_label 16 rot_z \\\n",
    "    -stim_file 8 \"/mnt/data/study/code/modeling/events/${subject_id}/${subject_id}_task-${task_id}_confounds.txt[5]\" -stim_base 8 -stim_label 17 trans_x \\\n",
    "    -stim_file 9 \"/mnt/data/study/code/modeling/events/${subject_id}/${subject_id}_task-${task_id}_confounds.txt[6]\" -stim_base 9 -stim_label 18 trans_y \\\n",
    "    -stim_file 10 \"/mnt/data/study/code/modeling/events/${subject_id}/${subject_id}_task-${task_id}_confounds.txt[7]\" -stim_base 10 -stim_label 19 trans_z \\\n",
    "    -tout \\\n",
    "    -stim_times_subtract 1.25 \\\n",
    "    -x1D /mnt/data/study/firstlevel_glm/${subject_id}_task-${task_id}.xmat.1D \\\n",
    "    -censor /mnt/data/study/code/modeling/events/${subject_id}/trial_type/${subject_id}_task-${task_id}_outliers.txt \\\n",
    "    -bucket /mnt/data/study/firstlevel_glm/${subject_id}_stats.nii.gz\n",
    "```"
   ]
  }
 ],
 "metadata": {
  "kernelspec": {
   "display_name": "Python 3",
   "language": "python",
   "name": "python3"
  },
  "language_info": {
   "codemirror_mode": {
    "name": "ipython",
    "version": 3
   },
   "file_extension": ".py",
   "mimetype": "text/x-python",
   "name": "python",
   "nbconvert_exporter": "python",
   "pygments_lexer": "ipython3",
   "version": "3.7.6"
  }
 },
 "nbformat": 4,
 "nbformat_minor": 4
}

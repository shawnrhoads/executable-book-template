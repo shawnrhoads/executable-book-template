{
 "cells": [
  {
   "cell_type": "markdown",
   "source": [
    "# Jupyter Notebooks\r\n",
    "\r\n",
    "<blockquote>\r\n",
    "<b>From <u><a href=\"https://realpython.com/jupyter-notebook-introduction\">Jupyer Notebook: An Introduction</a></u></b>\r\n",
    "<p>The Jupyter Notebook is an open source web application that you can use to create and share documents that contain live code, equations, visualizations, and text. Jupyter Notebook is maintained by the people at <a href=\"http://jupyter.org/\">Project Jupyter</a>.</p>\r\n",
    "\r\n",
    "<p>Jupyter Notebooks are a spin-off project from the IPython project, which used to have an IPython Notebook project itself. The name, Jupyter, comes from the core supported programming languages that it supports: Julia, Python, and R. Jupyter ships with the IPython kernel, which allows you to write your programs in Python, but there are currently over 100 other kernels that you can also use.</p>\r\n",
    "</blockquote>\r\n",
    "\r\n",
    "[Anaconda](https://www.anaconda.com/) comes with many scientific libraries preinstalled, including the Jupyter Notebook!"
   ],
   "metadata": {}
  },
  {
   "cell_type": "markdown",
   "source": [
    "## Interactive Coding!!\n",
    "We will use Jupyter Notebooks to interface with Python. Rather than keeping code scripts code and execution separate, Jupyter integrates both together using the concept of cells. Two main types of cells are **code cells** and **markdown cells**. Cells pair \"snippets\" of code with the output obtained from running them and can contain plots/figures inline alongside code required to generate them.\n",
    "\n",
    "````{panels}\n",
    "**Code cells** contain actual code that you want to run. You can specify a cell as a code cell using the pulldown menu in the toolbar in your Jupyter notebook. Otherwise, you can can hit esc and then y (denoted \"*esc, y*\") while a cell is selected to specify that it is a code cell. Note that you will have to hit enter after doing this to start editing it. If you want to execute the code in a code cell, hit \"*shift + enter*\". Note that code cells are executed in the order you execute them. That is to say, the ordering of the cells for which you hit \"*shift + enter*\" is the order in which the code is executed. If you did not explicitly execute a cell early in the document, its results are now known to the Python interpreter.\n",
    "\n",
    "---\n",
    "\n",
    "**Markdown cells** contain text. The text is written in Markdown, a lightweight markup language. You can read about its syntax [here](https://daringfireball.net/projects/markdown/syntax). Note that you can also insert HTML into markdown cells, and this will be rendered properly. As you are typing the contents of these cells, the results appear as text. Hitting \"*shift + enter*\" renders the text in the formatting you specify. You can specify a cell as being a markdown cell in the Jupyter toolbar, or by hitting \"*esc, m*\" in the cell. Again, you have to hit enter after using the quick keys to bring the cell into edit mode.\n",
    "````\n",
    "\n",
    "In general, when you want to add a new cell, you can use the \"Insert\" pulldown menu from the Jupyter toolbar. The shortcut to insert a cell below is \"*esc, b*\" and to insert a cell above is \"*esc, a*\". Alternatively, you can execute a cell and automatically add a new one below it by hitting \"*alt + enter*\"."
   ],
   "metadata": {}
  },
  {
   "cell_type": "code",
   "execution_count": null,
   "source": [
    "# This is a code cell\r\n",
    "# Put some code here and get some output below!\r\n",
    "x = 10\r\n",
    "print(x)"
   ],
   "outputs": [],
   "metadata": {}
  },
  {
   "cell_type": "markdown",
   "source": [
    "## Notebooks of the Future\n",
    "Not just for code:\n",
    "- Markdown, HTML, LaTeX integration\n",
    "- Slide shows\n",
    "- Keep your notes alongside your analysis routines\n",
    "- Embed images, videos, anything (it's all just HTML + javascript)"
   ],
   "metadata": {}
  },
  {
   "cell_type": "markdown",
   "source": [
    "### Markdown\n",
    "See this [comprehensive guide to Markdown](https://github.com/adam-p/markdown-here/wiki/Markdown-Cheatsheet) or [tutorial](https://www.markdowntutorial.com/). Here are some examples:\n",
    "\n",
    "#### Emphasis\n",
    "\n",
    "Here is one way to add emphasis to to Markdown cell text.\n",
    "```{tab} Markdown Input 1\n",
    "`Emphasis, aka italics, with *asterisks*.`\n",
    "```\n",
    "```{tab} Markdown Output 1\n",
    "Emphasis, aka italics, with *asterisks*.\n",
    "```\n",
    "\n",
    "Here is another way to add emphasis to to Markdown cell text.\n",
    "```{tab} Markdown Input 2\n",
    "`Strong emphasis, aka bold, with **asterisks**.`\n",
    "```\n",
    "```{tab} Markdown Output 2\n",
    "Strong emphasis, aka bold, with **asterisks**.\n",
    "```\n",
    "\n",
    "Here is another way to add emphasis to to Markdown cell text.\n",
    "```{tab} Markdown Input 3\n",
    "`Combined emphasis with ***asterisks***.`\n",
    "```\n",
    "```{tab} Markdown Output 3\n",
    "Combined emphasis with ***asterisks***.\n",
    "```\n",
    "\n",
    "Here is one way to add strikethough to Markdown cell text.\n",
    "```{tab} Markdown Input 4\n",
    "`Strikethrough uses two tildes. ~~Scratch this.~~`\n",
    "```\n",
    "```{tab} Markdown Output 4\n",
    "Strikethrough uses two tildes. ~~Scratch this.~~\n",
    "```\n",
    "\n",
    "#### Links\n",
    "\n",
    "Here is one way to insert hyperlinks into Markdown cells.\n",
    "```{tab} Markdown Input 5\n",
    "`[I'm an inline-style link](https://www.google.com)`\n",
    "```\n",
    "```{tab} Markdown Output 5\n",
    "[I'm an inline-style link](https://www.google.com)\n",
    "```\n",
    "\n",
    "Here is another way to insert hyperlinks into Markdown cells.\n",
    "```{tab} Markdown Input 6\n",
    "`[I'm a reference-style link][Arbitrary case-insensitive reference text]`\n",
    "```\n",
    "```{tab} Markdown Output 6\n",
    "[I'm a reference-style link][Arbitrary case-insensitive reference text]\n",
    "```\n",
    "\n",
    "[arbitrary case-insensitive reference text]: https://shawnrhoads.github.io/gu-psyc-347/\n",
    "[1]: https://shawnrhoads.github.io/gu-psyc-347/\n",
    "[link text itself]: https://shawnrhoads.github.io/gu-psyc-347/\n",
    "\n",
    "To reference the links above, we include the following text:\n",
    "```\n",
    "[arbitrary case-insensitive reference text]: https://shawnrhoads.github.io/gu-psyc-347/\n",
    "[1]: https://shawnrhoads.github.io/gu-psyc-347/\n",
    "[link text itself]: https://shawnrhoads.github.io/gu-psyc-347/\n",
    "```\n",
    "\n",
    "URLs and URLs in angle brackets will automatically get turned into links. http://www.example.com or <http://www.example.com> and sometimes \n",
    "example.com (but not on Github, for example).\n",
    "\n",
    "#### Tables\n",
    "Colons can be used to align columns (note that this may not render properly in the Jupyter Book website).\n",
    "\n",
    "````{tab} Markdown Input 7\n",
    "```\n",
    "| Tables        | Are           | Cool  |\n",
    "| :------------ |:-------------:| -----:|\n",
    "| col 1 is      | left-aligned  |     A |\n",
    "| col 3 is      | right-aligned |     B |\n",
    "| col 2 is      | centered      |     C |\n",
    "```\n",
    "````\n",
    "````{tab} Markdown Output 7\n",
    "| Tables        | Are           | Cool  |\n",
    "| :------------ |:-------------:| -----:|\n",
    "| col 1 is      | left-aligned  |     A |\n",
    "| col 3 is      | right-aligned |     B |\n",
    "| col 2 is      | centered      |     C |\n",
    "````\n",
    "\n",
    "The outer pipes (|) are optional, and you don't need to make the raw Markdown pretty. You can also use inline Markdown.\n",
    "\n",
    "````{tab} Markdown Input 8\n",
    "```\n",
    "Markdown | Less | Pretty\n",
    "--- | --- | ---\n",
    "*Still* | `renders` | **nicely**\n",
    "1 | 2 | 3\n",
    "```\n",
    "````\n",
    "````{tab} Markdown Output 8\n",
    "Markdown | Less | Pretty\n",
    "--- | --- | ---\n",
    "*Still* | `renders` | **nicely**\n",
    "1 | 2 | 3\n",
    "````"
   ],
   "metadata": {}
  },
  {
   "cell_type": "markdown",
   "source": [
    "### Inserting images from web"
   ],
   "metadata": {}
  },
  {
   "cell_type": "markdown",
   "source": [
    "Let's include the course logo below.\n",
    "\n",
    "```{tab} Markdown Input 9\n",
    "`![logo](https://github.com/shawnrhoads/gu-psyc-347/raw/master/docs/static/images/logo-background.jpg)`\n",
    "```\n",
    " \n",
    "```{tab} Markdown Output 9\n",
    "![logo](https://github.com/shawnrhoads/gu-psyc-347/raw/master/docs/static/images/logo-background.jpg)\n",
    "```\n"
   ],
   "metadata": {}
  },
  {
   "cell_type": "markdown",
   "source": [
    "### HTML/CSS Integration:\n",
    "\n",
    "Here's an example using HTML!\n",
    "\n",
    "```{tab} HTML Input\n",
    "`<font color=red>This is a</font> *markdown* **cell**!`\n",
    "```\n",
    "\n",
    "```{tab} HTML Output\n",
    "<font color=red>This is a</font> *markdown* **cell**!\n",
    "```"
   ],
   "metadata": {}
  },
  {
   "cell_type": "markdown",
   "source": [
    "### LaTeX Integration:\n",
    "\n",
    "Here's an example using LaTeX\n",
    "```{tab} LaTeX Input\n",
    "`$\\sum_{n=1}^{5}n$`\n",
    "```\n",
    "\n",
    "```{tab} LaTeX Output\n",
    "$\\sum_{n=1}^{5}n$\n",
    "```"
   ],
   "metadata": {}
  },
  {
   "cell_type": "markdown",
   "source": [
    "### Multilingual!\n",
    "\n",
    "Jupyter Notebooks support over [150+ languages](https://github.com/jupyter/jupyter/wiki/Jupyter-kernels)!\n",
    "\n",
    "These include:\n",
    "\n",
    "- Julia\n",
    "- Python\n",
    "- R\n",
    "- Javascript"
   ],
   "metadata": {}
  },
  {
   "cell_type": "markdown",
   "source": [
    "### Save notebooks in other formats and put them online\n",
    "- Github automatically renders Jupyter Notebooks\n",
    "- [Online notebook viewer](http://nbviewer.jupyter.org/)\n",
    "- Output to PDF, HTML (including JavaScript)\n",
    "- [JupyterHub](https://github.com/jupyterhub/jupyterhub)\n",
    "\n",
    "### Customize your notebook experience with extensions\n",
    "- Table of Contents\n",
    "- Execution time/Profiling\n",
    "- Scratch Space\n",
    "- Code/Section folding\n",
    "- Look and feel (CSS+Javascript)\n",
    "- Other notebook extensions\n",
    "\n",
    "### Additional Resources\n",
    "- [Eshin Jolly - Intro to Jupyter Notebooks](https://github.com/Summer-MIND/mind_2018/tree/master/tutorials/jupyter)\n",
    "- [Jake Vanderplas - Data Science Handbook](https://github.com/jakevdp/PythonDataScienceHandbook)\n",
    "- [Tal Yarkoni - Intro to Data Science w/ Python](https://github.com/tyarkoni/SSI2016)\n",
    "- [Yaroslav Halchenko - Intro to Programming for Psych/Neuro](https://github.com/dartmouth-pbs/psyc161)\n",
    "- [Awesome notebooks](https://github.com/jupyter/jupyter/wiki/A-gallery-of-interesting-Jupyter-Notebooks)\n",
    "- [Neuroimaging in Python](https://github.com/datacarpentry/python-neuroimaging-lesson)\n",
    "- [Google Colaboratory](https://colab.research.google.com/notebooks/welcome.ipynb#recent=true)"
   ],
   "metadata": {}
  }
 ],
 "metadata": {
  "colab": {
   "collapsed_sections": []
  },
  "interpreter": {
   "hash": "31f2aee4e71d21fbe5cf8b01ff0e069b9275f58929596ceb00d14d90e3e16cd6"
  },
  "kernelspec": {
   "display_name": "Python 3",
   "language": "python",
   "name": "python3"
  },
  "language_info": {
   "codemirror_mode": {
    "name": "ipython",
    "version": 3
   },
   "file_extension": ".py",
   "mimetype": "text/x-python",
   "name": "python",
   "nbconvert_exporter": "python",
   "pygments_lexer": "ipython3",
   "version": "3.7.9"
  }
 },
 "nbformat": 4,
 "nbformat_minor": 4
}
{
 "cells": [
  {
   "cell_type": "markdown",
   "source": [
    "# Jupyter Notebooks\r\n",
    "\r\n",
    "## What are Jupyter Notebooks?\r\n",
    "\r\n",
    "<blockquote>\r\n",
    "<b>From <u><a href=\"https://realpython.com/jupyter-notebook-introduction/#creating-a-notebook\">Jupyer Notebook: An Introduction</a></u></b>\r\n",
    "<p>The Jupyter Notebook is an open source web application that you can use to create and share documents that contain live code, equations, visualizations, and text. Jupyter Notebook is maintained by the people at <a href=\"http://jupyter.org/\">Project Jupyter</a>.</p>\r\n",
    "\r\n",
    "<p>Jupyter Notebooks are a spin-off project from the IPython project, which used to have an IPython Notebook project itself. The name, Jupyter, comes from the core supported programming languages that it supports: Julia, Python, and R. Jupyter ships with the IPython kernel, which allows you to write your programs in Python, but there are currently over 100 other kernels that you can also use.</p>\r\n",
    "</blockquote>\r\n",
    "\r\n",
    "[Anaconda](https://docs.anaconda.com/anaconda/install/) comes with many scientific libraries preinstalled, including the Jupyter Notebook!\r\n"
   ],
   "metadata": {}
  },
  {
   "cell_type": "markdown",
   "source": [
    "## Interactive Coding!!\r\n",
    "We will use Jupyter Notebooks to interface with Python. Rather than keeping code scripts code and execution separate, jupyter integrates both together using the concept of cells. Two main types of cells are **markdown cells** and **code cells**. Cells pair \"snippets\" of code with the output obtained from running them and can contain plots/figure inline alongside code required to generate them\r\n",
    "\r\n",
    "**Markdown cells** contain text. The text is written in markdown, a lightweight markup language. You can read about its syntax [here](https://daringfireball.net/projects/markdown/syntax). Note that you can also insert HTML into markdown cells, and this will be rendered properly. As you are typing the contents of these cells, the results appear as text. Hitting \"shift + enter\" renders the text in the formatting you specify. You can specify a cell as being a markdown cell in the Jupyter toolbar, or by hitting the \"esc\" then \"m\" keys in the cell. You have to hit enter after using the quick keys to bring the cell into edit mode.\r\n",
    "\r\n",
    "**Code cells** contain actual code that you want to run. You can specify a cell as a code cell using the pulldown menu in the toolbar in your Jupyter notebook, or by hitting the \"esc\" then \"y\" keys in the cell. Again, you have to hit enter after using the quick keys to bring the cell into edit mode. If you want to execute the code in a code cell, hit \"shift + enter.\" Note that code cells are executed in the order you execute them (i.e., the ordering of the cells for which you hit \"shift + enter\" is the order in which the code is executed). If you did not explicitly execute a cell early in the document, its results are not known to the Python interpreter.\r\n",
    "\r\n",
    "When you want to add a new cell, you can use the \"Insert\" pulldown menu from the Jupyter toolbar. The shortcut to insert a cell below is \"esc\" then \"b\" and to insert a cell above is \"esc\" then \"a\";  Alternatively, you can execute a cell and automatically add a new one below it by hitting \"alt + enter.\""
   ],
   "metadata": {}
  },
  {
   "cell_type": "code",
   "execution_count": null,
   "source": [
    "# This is a code cell\r\n",
    "#Put some code here and get some output below!\r\n",
    "x = 10\r\n",
    "print(x)"
   ],
   "outputs": [],
   "metadata": {}
  },
  {
   "cell_type": "markdown",
   "source": [
    "## Markdown\r\n",
    "See this [comprehensive guide to Markdown](https://github.com/adam-p/markdown-here/wiki/Markdown-Cheatsheet) or [Tutorial](https://www.markdowntutorial.com/). Here are some examples:\r\n",
    "\r\n",
    "### Emphasis\r\n",
    "Emphasis, aka italics, with *asterisks* or _underscores_.\r\n",
    "\r\n",
    "Strong emphasis, aka bold, with **asterisks** or __underscores__.\r\n",
    "\r\n",
    "Combined emphasis with **asterisks and _underscores_**.\r\n",
    "\r\n",
    "Strikethrough uses two tildes. ~~Scratch this.~~\r\n",
    "\r\n",
    "The text above looks like this behind the scenes:\r\n",
    "```\r\n",
    "Emphasis, aka italics, with *asterisks* or _underscores_.\r\n",
    "\r\n",
    "Strong emphasis, aka bold, with **asterisks** or __underscores__.\r\n",
    "\r\n",
    "Combined emphasis with **asterisks and _underscores_**.\r\n",
    "\r\n",
    "Strikethrough uses two tildes. ~~Scratch this.~~\r\n",
    "```\r\n",
    "\r\n",
    "### Links\r\n",
    "[I'm an inline-style link](https://www.google.com)\r\n",
    "\r\n",
    "[I'm a reference-style link][Arbitrary case-insensitive reference text]\r\n",
    "\r\n",
    "[You can use numbers for reference-style link definitions][1]\r\n",
    "\r\n",
    "Or leave it empty and use the [link text itself]\r\n",
    "\r\n",
    "URLs and URLs in angle brackets will automatically get turned into links. \r\n",
    "http://www.example.com or <http://www.example.com> and sometimes \r\n",
    "example.com (but not on Github, for example).\r\n",
    "\r\n",
    "Some text to show that the reference links can follow later.\r\n",
    "\r\n",
    "[arbitrary case-insensitive reference text]: https://www.mozilla.org\r\n",
    "[1]: http://slashdot.org\r\n",
    "[link text itself]: http://www.reddit.com\r\n",
    "\r\n",
    "The text above looks like this behind the scenes:\r\n",
    "```\r\n",
    "[I'm an inline-style link](https://www.google.com)\r\n",
    "\r\n",
    "[I'm a reference-style link][Arbitrary case-insensitive reference text]\r\n",
    "\r\n",
    "[You can use numbers for reference-style link definitions][1]\r\n",
    "\r\n",
    "Or leave it empty and use the [link text itself]\r\n",
    "\r\n",
    "URLs and URLs in angle brackets will automatically get turned into links. \r\n",
    "http://www.example.com or <http://www.example.com> and sometimes \r\n",
    "example.com (but not on Github, for example).\r\n",
    "\r\n",
    "Some text to show that the reference links can follow later.\r\n",
    "\r\n",
    "[arbitrary case-insensitive reference text]: https://www.mozilla.org\r\n",
    "[1]: http://slashdot.org\r\n",
    "[link text itself]: http://www.reddit.com\r\n",
    "```\r\n",
    "\r\n",
    "### Tables\r\n",
    "Colons can be used to align columns.\r\n",
    "\r\n",
    "| Tables        | Are           | Cool  |\r\n",
    "| :------------ |:-------------:| -----:|\r\n",
    "| col 1 is      | left-aligned  |     A |\r\n",
    "| col 3 is      | right-aligned |     B |\r\n",
    "| col 2 is      | centered      |     C |\r\n",
    "\r\n",
    "The outer pipes (|) are optional, and you don't need to make the raw Markdown pretty. You can also use inline Markdown.\r\n",
    "\r\n",
    "Markdown | Less | Pretty\r\n",
    "--- | --- | ---\r\n",
    "*Still* | `renders` | **nicely**\r\n",
    "1 | 2 | 3\r\n",
    "\r\n",
    "The text above looks like this behind the scenes:\r\n",
    "```\r\n",
    "Colons can be used to align columns.\r\n",
    "\r\n",
    "| Tables        | Are           | Cool  |\r\n",
    "| :------------ |:-------------:| -----:|\r\n",
    "| col 1 is      | left-aligned  |     A |\r\n",
    "| col 3 is      | right-aligned |     B |\r\n",
    "| col 2 is      | centered      |     C |\r\n",
    "\r\n",
    "The outer pipes (|) are optional, and you don't need to make the raw Markdown pretty. You can also use inline Markdown.\r\n",
    "\r\n",
    "Markdown | Less | Pretty\r\n",
    "--- | --- | ---\r\n",
    "*Still* | `renders` | **nicely**\r\n",
    "1 | 2 | 3\r\n",
    "```"
   ],
   "metadata": {}
  },
  {
   "cell_type": "markdown",
   "source": [
    "## HTML/CSS Integration:\r\n",
    "\r\n",
    "<font color=red>This is a</font> *markdown* **cell**!\r\n",
    "\r\n",
    "The text above looks like this behind the scenes:\r\n",
    "```\r\n",
    "<font color=red>This is a</font> *markdown* **cell**!\r\n",
    "```"
   ],
   "metadata": {}
  },
  {
   "cell_type": "markdown",
   "source": [
    "## LaTeX Integration:\r\n",
    "$$\\sum_{n=1}^{5}n$$\r\n",
    "\r\n",
    "The equation above looks like this behind the scenes:\r\n",
    "```\r\n",
    "$$\\sum_{n=1}^{5}n$$\r\n",
    "```"
   ],
   "metadata": {}
  },
  {
   "cell_type": "markdown",
   "source": [
    "## Save notebooks in other formats and put them online\r\n",
    "- Github automatically renders jupyter notebooks\r\n",
    "- [Online notebook viewer](http://nbviewer.jupyter.org/)\r\n",
    "- Output to PDF, HTML (including javascript)\r\n",
    "- [Jupyterhub](https://github.com/jupyterhub/jupyterhub): code with friends!\r\n",
    "- [Jupyter Book](https://jupyterbook.org/intro.html)\r\n",
    "\r\n",
    "## Additional Resources\r\n",
    "- [Eshin Jolly - Intro to Jupyter Notebooks](https://github.com/Summer-MIND/mind_2018/tree/master/tutorials/jupyter)\r\n",
    "- [Jake Vanderplas - Data Science Handbook](https://github.com/jakevdp/PythonDataScienceHandbook)\r\n",
    "- [Tal Yarkoni - Intro to Data Science w/ Python](https://github.com/tyarkoni/SSI2016)\r\n",
    "- [Yaroslav Halchenko - Intro to Programming for Psych/Neuro](https://github.com/dartmouth-pbs/psyc161)\r\n",
    "- [Awesome notebooks](https://github.com/jupyter/jupyter/wiki/A-gallery-of-interesting-Jupyter-Notebooks)\r\n",
    "- [Neuroimaging in Python](https://github.com/datacarpentry/python-neuroimaging-lesson)\r\n",
    "- [Google Colaboratory](https://colab.research.google.com/notebooks/welcome.ipynb#recent=true)"
   ],
   "metadata": {}
  },
  {
   "cell_type": "markdown",
   "source": [
    "<a href=\"https://colab.research.google.com/github/shawnrhoads/executable-book-template/blob/main/docs/jupyter.ipynb\" target=\"_blank\" style text-align=\"center\">![Open In Colab](https://colab.research.google.com/assets/colab-badge.svg)</a>"
   ],
   "metadata": {}
  }
 ],
 "metadata": {
  "kernelspec": {
   "display_name": "Python 3",
   "language": "python",
   "name": "python3"
  },
  "language_info": {
   "codemirror_mode": {
    "name": "ipython",
    "version": 3
   },
   "file_extension": ".py",
   "mimetype": "text/x-python",
   "name": "python",
   "nbconvert_exporter": "python",
   "pygments_lexer": "ipython3",
   "version": "3.7.6"
  }
 },
 "nbformat": 4,
 "nbformat_minor": 4
}
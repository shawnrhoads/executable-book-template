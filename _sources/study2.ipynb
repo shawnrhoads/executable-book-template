{
 "cells": [
  {
   "cell_type": "markdown",
   "metadata": {},
   "source": [
    "# Study 2\n",
    "\n",
    "Brief description of neuroimaging study."
   ]
  },
  {
   "cell_type": "markdown",
   "metadata": {},
   "source": [
    "For group-level statistical inference, we ran a sign permutation test using the following `bash` command with `AFNI` to run `3dttest++` with `-Clustsim`:\n",
    "\n",
    "```\n",
    "dirA=mnt/data/study/firstlevel_glm/\n",
    "3dttest++ -prefix /mnt/data/study/results/Condition_A.nii.gz \\\n",
    "          -mask /mnt/data/study/code/modeling/MNI152-graymatter-thr50-2mm.nii.gz \\\n",
    "          -Clustsim \\\n",
    "          -setA Condition_A \\\n",
    "             101 \"$dirA/sub-101_stats.nii.gz[0]\" \\\n",
    "             102 \"$dirA/sub-102_stats.nii.gz[0]\" \\\n",
    "             103 \"$dirA/sub-103_stats.nii.gz[0]\" \\\n",
    "             104 \"$dirA/sub-104_stats.nii.gz[0]\" \\\n",
    "             105 \"$dirA/sub-105_stats.nii.gz[0]\" \\\n",
    "             106 \"$dirA/sub-106_stats.nii.gz[0]\" \\\n",
    "             107 \"$dirA/sub-107_stats.nii.gz[0]\" \\\n",
    "             108 \"$dirA/sub-108_stats.nii.gz[0]\" \\\n",
    "             109 \"$dirA/sub-109_stats.nii.gz[0]\" \\\n",
    "             110 \"$dirA/sub-110_stats.nii.gz[0]\" \\\n",
    "             111 \"$dirA/sub-111_stats.nii.gz[0]\" \\\n",
    "             112 \"$dirA/sub-112_stats.nii.gz[0]\" \\\n",
    "             113 \"$dirA/sub-113_stats.nii.gz[0]\" \\\n",
    "             115 \"$dirA/sub-115_stats.nii.gz[0]\" \\\n",
    "             201 \"$dirA/sub-201_stats.nii.gz[0]\" \\\n",
    "             202 \"$dirA/sub-202_stats.nii.gz[0]\" \\\n",
    "             203 \"$dirA/sub-203_stats.nii.gz[0]\" \\\n",
    "             204 \"$dirA/sub-204_stats.nii.gz[0]\" \\\n",
    "             205 \"$dirA/sub-205_stats.nii.gz[0]\" \\\n",
    "             206 \"$dirA/sub-206_stats.nii.gz[0]\" \\\n",
    "             207 \"$dirA/sub-207_stats.nii.gz[0]\" \\\n",
    "             208 \"$dirA/sub-208_stats.nii.gz[0]\" \\\n",
    "             209 \"$dirA/sub-209_stats.nii.gz[0]\" \\\n",
    "             210 \"$dirA/sub-210_stats.nii.gz[0]\" \\\n",
    "             211 \"$dirA/sub-211_stats.nii.gz[0]\" \\\n",
    "             212 \"$dirA/sub-212_stats.nii.gz[0]\" \\\n",
    "             213 \"$dirA/sub-213_stats.nii.gz[0]\" \\\n",
    "             215 \"$dirA/sub-215_stats.nii.gz[0]\"\n",
    "```\n",
    "\n",
    "We thresholded our image using the following `bash` command with `AFNI` to run `3dClusterize`:\n",
    "```\n",
    "3dClusterize -nosum -1Dformat -inset /mnt/data/study/results/Condition_A.nii.gz -idat 1 -ithr 1 -NN 2 -clust_nvox 9 -bisided -2.8 2.8 -pref_map Clust_mask\n",
    "```"
   ]
  },
  {
   "cell_type": "markdown",
   "metadata": {},
   "source": [
    "## Figure 2\n",
    "\n",
    "Rather than selecting a few slices, let's allow readers to interact with the entire statistical map!"
   ]
  },
  {
   "cell_type": "code",
   "execution_count": null,
   "metadata": {},
   "outputs": [],
   "source": [
    "import nibabel as nib\n",
    "from nilearn.plotting import view_img\n",
    "\n",
    "zmap = nib.load('data/unthresh_Z.nii.gz')\n",
    "view_img(zmap, threshold=2.8)"
   ]
  },
  {
   "cell_type": "markdown",
   "metadata": {},
   "source": [
    "Here is the statistic map on a surface mesh.\n",
    "\n",
    "## Supplemental Figure 3"
   ]
  },
  {
   "cell_type": "code",
   "execution_count": null,
   "metadata": {},
   "outputs": [],
   "source": [
    "from nilearn.plotting import view_img_on_surf\n",
    "\n",
    "view_img_on_surf(zmap,threshold=2.8)"
   ]
  },
  {
   "cell_type": "markdown",
   "metadata": {},
   "source": [
    "<hr>"
   ]
  },
  {
   "cell_type": "markdown",
   "metadata": {},
   "source": [
    "## Table 2\n",
    "\n",
    "We can also generate a coordinate table from the statistical map."
   ]
  },
  {
   "cell_type": "code",
   "execution_count": null,
   "metadata": {},
   "outputs": [],
   "source": [
    "from nilearn.reporting import get_clusters_table\n",
    "table = get_clusters_table(zmap, \n",
    "                           stat_threshold=2.8,\n",
    "                           cluster_threshold=10).set_index('Cluster ID',\n",
    "                                                           drop=True)\n",
    "display(table)"
   ]
  }
 ],
 "metadata": {
  "kernelspec": {
   "display_name": "Python 3",
   "language": "python",
   "name": "python3"
  },
  "language_info": {
   "codemirror_mode": {
    "name": "ipython",
    "version": 3
   },
   "file_extension": ".py",
   "mimetype": "text/x-python",
   "name": "python",
   "nbconvert_exporter": "python",
   "pygments_lexer": "ipython3",
   "version": "3.7.6"
  }
 },
 "nbformat": 4,
 "nbformat_minor": 5
}

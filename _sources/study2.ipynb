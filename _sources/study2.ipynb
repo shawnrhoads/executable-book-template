{
 "cells": [
  {
   "cell_type": "markdown",
   "id": "extreme-requirement",
   "metadata": {},
   "source": [
    "# Study 2\n",
    "\n",
    "Brief description of neuroimaging study."
   ]
  },
  {
   "cell_type": "markdown",
   "id": "bulgarian-train",
   "metadata": {},
   "source": [
    "## Figure 2\n",
    "\n",
    "Rather than selecting a few slices, let's allow readers to interact with the entire statistical map!"
   ]
  },
  {
   "cell_type": "code",
   "execution_count": null,
   "id": "classical-advocate",
   "metadata": {},
   "outputs": [],
   "source": [
    "import nibabel as nib\n",
    "from nilearn.plotting import view_img\n",
    "\n",
    "zmap = nib.load('data/unthresh_Z.nii.gz')\n",
    "view_img(zmap, threshold=2.8)"
   ]
  },
  {
   "cell_type": "markdown",
   "id": "economic-conclusion",
   "metadata": {},
   "source": [
    "Here is the statistic map on a surface mesh.\n",
    "\n",
    "## Supplemental Figure 3"
   ]
  },
  {
   "cell_type": "code",
   "execution_count": null,
   "id": "russian-sixth",
   "metadata": {},
   "outputs": [],
   "source": [
    "from nilearn.plotting import view_img_on_surf\n",
    "\n",
    "view_img_on_surf(zmap,threshold=2.8)"
   ]
  },
  {
   "cell_type": "markdown",
   "id": "dirty-soccer",
   "metadata": {},
   "source": [
    "<hr>"
   ]
  },
  {
   "cell_type": "markdown",
   "id": "banned-biodiversity",
   "metadata": {},
   "source": [
    "## Table 2\n",
    "\n",
    "We can also generate a coordinate table from the statistical map."
   ]
  },
  {
   "cell_type": "code",
   "execution_count": null,
   "id": "comparable-meter",
   "metadata": {},
   "outputs": [],
   "source": [
    "from nilearn.reporting import get_clusters_table\n",
    "table = get_clusters_table(zmap, \n",
    "                           stat_threshold=2.8,\n",
    "                           cluster_threshold=10).set_index('Cluster ID',\n",
    "                                                           drop=True)\n",
    "display(table)"
   ]
  }
 ],
 "metadata": {
  "kernelspec": {
   "display_name": "Python 3",
   "language": "python",
   "name": "python3"
  },
  "language_info": {
   "codemirror_mode": {
    "name": "ipython",
    "version": 3
   },
   "file_extension": ".py",
   "mimetype": "text/x-python",
   "name": "python",
   "nbconvert_exporter": "python",
   "pygments_lexer": "ipython3",
   "version": "3.7.10"
  }
 },
 "nbformat": 4,
 "nbformat_minor": 5
}

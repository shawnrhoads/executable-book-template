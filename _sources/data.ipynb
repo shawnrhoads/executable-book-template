{
 "cells": [
  {
   "cell_type": "markdown",
   "id": "extreme-requirement",
   "metadata": {},
   "source": [
    "# Data\n",
    "\n",
    "Here's a brief description about our sample. We will use a popular dataset that contains information on all the passengers aboard the Titanic."
   ]
  },
  {
   "cell_type": "markdown",
   "id": "gentle-belief",
   "metadata": {},
   "source": [
    "## Table 1\n",
    "\n",
    "Let's plot a table with summary statistics."
   ]
  },
  {
   "cell_type": "code",
   "execution_count": 13,
   "id": "classical-advocate",
   "metadata": {},
   "outputs": [
    {
     "data": {
      "text/html": [
       "<div>\n",
       "<style scoped>\n",
       "    .dataframe tbody tr th:only-of-type {\n",
       "        vertical-align: middle;\n",
       "    }\n",
       "\n",
       "    .dataframe tbody tr th {\n",
       "        vertical-align: top;\n",
       "    }\n",
       "\n",
       "    .dataframe thead th {\n",
       "        text-align: right;\n",
       "    }\n",
       "</style>\n",
       "<table border=\"1\" class=\"dataframe\">\n",
       "  <thead>\n",
       "    <tr style=\"text-align: right;\">\n",
       "      <th></th>\n",
       "      <th></th>\n",
       "      <th>count</th>\n",
       "      <th>mean</th>\n",
       "      <th>std</th>\n",
       "      <th>min</th>\n",
       "      <th>25%</th>\n",
       "      <th>50%</th>\n",
       "      <th>75%</th>\n",
       "      <th>max</th>\n",
       "    </tr>\n",
       "    <tr>\n",
       "      <th>sex</th>\n",
       "      <th>class</th>\n",
       "      <th></th>\n",
       "      <th></th>\n",
       "      <th></th>\n",
       "      <th></th>\n",
       "      <th></th>\n",
       "      <th></th>\n",
       "      <th></th>\n",
       "      <th></th>\n",
       "    </tr>\n",
       "  </thead>\n",
       "  <tbody>\n",
       "    <tr>\n",
       "      <th rowspan=\"3\" valign=\"top\">female</th>\n",
       "      <th>First</th>\n",
       "      <td>85.0</td>\n",
       "      <td>34.611765</td>\n",
       "      <td>13.612052</td>\n",
       "      <td>2.00</td>\n",
       "      <td>23.000</td>\n",
       "      <td>35.0</td>\n",
       "      <td>44.00</td>\n",
       "      <td>63.0</td>\n",
       "    </tr>\n",
       "    <tr>\n",
       "      <th>Second</th>\n",
       "      <td>74.0</td>\n",
       "      <td>28.722973</td>\n",
       "      <td>12.872702</td>\n",
       "      <td>2.00</td>\n",
       "      <td>22.250</td>\n",
       "      <td>28.0</td>\n",
       "      <td>36.00</td>\n",
       "      <td>57.0</td>\n",
       "    </tr>\n",
       "    <tr>\n",
       "      <th>Third</th>\n",
       "      <td>102.0</td>\n",
       "      <td>21.750000</td>\n",
       "      <td>12.729964</td>\n",
       "      <td>0.75</td>\n",
       "      <td>14.125</td>\n",
       "      <td>21.5</td>\n",
       "      <td>29.75</td>\n",
       "      <td>63.0</td>\n",
       "    </tr>\n",
       "    <tr>\n",
       "      <th rowspan=\"3\" valign=\"top\">male</th>\n",
       "      <th>First</th>\n",
       "      <td>101.0</td>\n",
       "      <td>41.281386</td>\n",
       "      <td>15.139570</td>\n",
       "      <td>0.92</td>\n",
       "      <td>30.000</td>\n",
       "      <td>40.0</td>\n",
       "      <td>51.00</td>\n",
       "      <td>80.0</td>\n",
       "    </tr>\n",
       "    <tr>\n",
       "      <th>Second</th>\n",
       "      <td>99.0</td>\n",
       "      <td>30.740707</td>\n",
       "      <td>14.793894</td>\n",
       "      <td>0.67</td>\n",
       "      <td>23.000</td>\n",
       "      <td>30.0</td>\n",
       "      <td>36.75</td>\n",
       "      <td>70.0</td>\n",
       "    </tr>\n",
       "    <tr>\n",
       "      <th>Third</th>\n",
       "      <td>253.0</td>\n",
       "      <td>26.507589</td>\n",
       "      <td>12.159514</td>\n",
       "      <td>0.42</td>\n",
       "      <td>20.000</td>\n",
       "      <td>25.0</td>\n",
       "      <td>33.00</td>\n",
       "      <td>74.0</td>\n",
       "    </tr>\n",
       "  </tbody>\n",
       "</table>\n",
       "</div>"
      ],
      "text/plain": [
       "               count       mean        std   min     25%   50%    75%   max\n",
       "sex    class                                                               \n",
       "female First    85.0  34.611765  13.612052  2.00  23.000  35.0  44.00  63.0\n",
       "       Second   74.0  28.722973  12.872702  2.00  22.250  28.0  36.00  57.0\n",
       "       Third   102.0  21.750000  12.729964  0.75  14.125  21.5  29.75  63.0\n",
       "male   First   101.0  41.281386  15.139570  0.92  30.000  40.0  51.00  80.0\n",
       "       Second   99.0  30.740707  14.793894  0.67  23.000  30.0  36.75  70.0\n",
       "       Third   253.0  26.507589  12.159514  0.42  20.000  25.0  33.00  74.0"
      ]
     },
     "metadata": {},
     "output_type": "display_data"
    }
   ],
   "source": [
    "import pandas as pd\n",
    "import seaborn as sns\n",
    "import matplotlib.pyplot as plt\n",
    "\n",
    "titanic = sns.load_dataset(\"titanic\")\n",
    "display(titanic.groupby([\"sex\", \"class\"])[\"age\"].describe())"
   ]
  },
  {
   "cell_type": "markdown",
   "id": "loving-couple",
   "metadata": {},
   "source": [
    "We can also plot our summary statistics.\n",
    "\n",
    "## Supplemental Figure 1"
   ]
  },
  {
   "cell_type": "code",
   "execution_count": 6,
   "id": "serious-poker",
   "metadata": {
    "scrolled": false
   },
   "outputs": [
    {
     "data": {
      "image/png": "[encoded data removed]",
      "text/plain": [
       "<Figure size 436.975x360 with 1 Axes>"
      ]
     },
     "metadata": {},
     "output_type": "display_data"
    }
   ],
   "source": [
    "sns.set_theme(style=\"ticks\", color_codes=True)\n",
    "\n",
    "sns.catplot(x=\"sex\", y=\"survived\", hue=\"class\", kind=\"bar\", data=titanic)\n",
    "plt.show()"
   ]
  },
  {
   "cell_type": "markdown",
   "id": "premium-singer",
   "metadata": {},
   "source": [
    "<a href=\"https://colab.research.google.com/github/shawnrhoads/executable-notebook-template/blob/main/docs/data.ipynb\" target=\"_blank\">![Open In Colab](https://colab.research.google.com/assets/colab-badge.svg)</a>"
   ]
  }
 ],
 "metadata": {
  "kernelspec": {
   "display_name": "Python 3",
   "language": "python",
   "name": "python3"
  },
  "language_info": {
   "codemirror_mode": {
    "name": "ipython",
    "version": 3
   },
   "file_extension": ".py",
   "mimetype": "text/x-python",
   "name": "python",
   "nbconvert_exporter": "python",
   "pygments_lexer": "ipython3",
   "version": "3.7.10"
  }
 },
 "nbformat": 4,
 "nbformat_minor": 5
}

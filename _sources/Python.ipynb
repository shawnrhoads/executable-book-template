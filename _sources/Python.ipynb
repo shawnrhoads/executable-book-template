{
 "cells": [
  {
   "cell_type": "markdown",
   "metadata": {},
   "source": [
    "<a href=\"https://colab.research.google.com/github/shawnrhoads/executable-book-template/blob/main/docs/Python.ipynb\" target=\"_blank\" style text-align=\"center\">![Open In Colab](https://colab.research.google.com/assets/colab-badge.svg)</a>\n",
    "# Python Code\n",
    "\n",
    "This is a Jupyter Notebook with a Python kernel."
   ]
  },
  {
   "cell_type": "code",
   "execution_count": null,
   "metadata": {},
   "outputs": [],
   "source": [
    "# let's grab the titanic data from online\n",
    "import pandas as pd\n",
    "\n",
    "titanic = pd.read_csv('https://raw.githubusercontent.com/shawnrhoads/executable-book-template/main/docs/data/titanic.csv')\n",
    "display(titanic.iloc[:,1:5].head())"
   ]
  },
  {
   "cell_type": "code",
   "execution_count": null,
   "metadata": {},
   "outputs": [],
   "source": [
    "x = [1,2,3,4,6,7,8,9]\n",
    "print(x)"
   ]
  }
 ],
 "metadata": {
  "kernelspec": {
   "display_name": "Python 3",
   "language": "python",
   "name": "python3"
  },
  "language_info": {
   "codemirror_mode": {
    "name": "ipython",
    "version": 3
   },
   "file_extension": ".py",
   "mimetype": "text/x-python",
   "name": "python",
   "nbconvert_exporter": "python",
   "pygments_lexer": "ipython3",
   "version": "3.7.6"
  }
 },
 "nbformat": 4,
 "nbformat_minor": 5
}

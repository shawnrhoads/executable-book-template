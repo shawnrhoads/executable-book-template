{
 "cells": [
  {
   "cell_type": "markdown",
   "id": "closing-camel",
   "metadata": {},
   "source": [
    "# Python Code\n",
    "This is a Jupyter Notebook with a Python kernel."
   ]
  },
  {
   "cell_type": "code",
   "execution_count": 1,
   "id": "electrical-halloween",
   "metadata": {},
   "outputs": [
    {
     "name": "stdout",
     "output_type": "stream",
     "text": [
      "[1, 2, 3, 4, 6, 7, 8, 9]\n"
     ]
    }
   ],
   "source": [
    "x = [1,2,3,4,6,7,8,9]\n",
    "print(x)"
   ]
  }
 ],
 "metadata": {
  "kernelspec": {
   "display_name": "Python 3",
   "language": "python",
   "name": "python3"
  },
  "language_info": {
   "codemirror_mode": {
    "name": "ipython",
    "version": 3
   },
   "file_extension": ".py",
   "mimetype": "text/x-python",
   "name": "python",
   "nbconvert_exporter": "python",
   "pygments_lexer": "ipython3",
   "version": "3.7.10"
  }
 },
 "nbformat": 4,
 "nbformat_minor": 5
}
